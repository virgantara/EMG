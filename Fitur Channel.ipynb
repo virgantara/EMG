{
 "cells": [
  {
   "cell_type": "code",
   "execution_count": 15,
   "metadata": {},
   "outputs": [],
   "source": [
    "import pandas as pd\n",
    "import numpy as np\n",
    "import math\n",
    "from digital_processing import bp_filter, notch_filter, plot_signal\n",
    "from feature_extraction import features_estimation, time_features_estimation,frequency_features_estimation\n",
    "\n",
    "# Load data\n",
    "signal_path = 'joint_features/sinyal.csv'\n",
    "# nama_sheet='01-gm-ka-1'\n",
    "# emg_signal = pd.read_excel(io=signal_path,sheet_name=nama_sheet,usecols=[0,1,2,3]).values\n",
    "\n",
    "features_names = ['VAR', 'RMS', 'IEMG', 'MAV', 'LOG', 'WL', 'ACC', 'DASDV', 'ZC', 'WAMP', 'MYOP', \"FR\", \"MNP\", \"TP\",\n",
    "                      \"MNF\", \"MDF\", \"PKF\", \"WENT\"]\n",
    "df = pd.DataFrame(columns=features_names)\n",
    "sheets_dict = pd.read_excel(signal_path, sheet_name=None)\n",
    "list_cols_name = ['barefoot','soft','medium','hard']\n",
    "for name, sheet in sheets_dict.items():\n",
    "    sheet['sheet'] = name\n",
    "    print('Processing Sheet',name)\n",
    "    nama_sheet = name\n",
    "    emg_signal = pd.read_excel(io=signal_path,sheet_name=nama_sheet,usecols=[0,1,2,3]).values\n",
    "\n",
    "    sampling_frequency = 2e3\n",
    "    frame = 60\n",
    "    step = 30\n",
    "    list_cols = [0,1,2,3]\n",
    "    splitted = nama_sheet.split(\"-\")\n",
    "    subject = splitted[0]\n",
    "    otot = splitted[1]\n",
    "    foot = splitted[2]\n",
    "    trial = splitted[3]\n",
    "    for col, col_name in zip(list_cols, list_cols_name):\n",
    "        print('Processing '+col_name)\n",
    "        channel_name = col\n",
    "        signal = emg_signal[:,col]\n",
    "        signal = signal.reshape((signal.size,))\n",
    "        filtered_signal = signal\n",
    "        emg_features, features_names = features_estimation(filtered_signal, channel_name,sampling_frequency, frame, step)\n",
    "        \n",
    "        emg_features = emg_features.T\n",
    "        d = pd.DataFrame(emg_features)\n",
    "        d['subject'] = subject\n",
    "        d['otot'] = otot\n",
    "        d['foot'] = foot\n",
    "        d['trial'] = trial\n",
    "        d['class'] = col_name\n",
    "        df = df.append([d],ignore_index = True)\n",
    "df.to_csv('joint_features/all.csv')"
   ]
  },
  {
   "cell_type": "code",
   "execution_count": null,
   "metadata": {
    "scrolled": false
   },
   "outputs": [],
   "source": []
  }
 ],
 "metadata": {
  "kernelspec": {
   "display_name": "tf_gpu",
   "language": "python",
   "name": "tf_gpu"
  },
  "language_info": {
   "codemirror_mode": {
    "name": "ipython",
    "version": 3
   },
   "file_extension": ".py",
   "mimetype": "text/x-python",
   "name": "python",
   "nbconvert_exporter": "python",
   "pygments_lexer": "ipython3",
   "version": "3.9.9"
  }
 },
 "nbformat": 4,
 "nbformat_minor": 4
}

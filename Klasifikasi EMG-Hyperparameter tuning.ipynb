{
 "cells": [
  {
   "cell_type": "code",
   "execution_count": 5,
   "metadata": {},
   "outputs": [],
   "source": [
    "import pandas as pd\n",
    "import numpy as np\n",
    "import matplotlib.pyplot as plt\n",
    "from sklearn.model_selection import train_test_split\n",
    "\n",
    "from sklearn import preprocessing\n",
    "from sklearn.neural_network import MLPClassifier\n",
    "import seaborn as sns"
   ]
  },
  {
   "cell_type": "code",
   "execution_count": 6,
   "metadata": {},
   "outputs": [
    {
     "name": "stderr",
     "output_type": "stream",
     "text": [
      "/tmp/ipykernel_50505/3504047694.py:8: FutureWarning: Dropping of nuisance columns in DataFrame reductions (with 'numeric_only=None') is deprecated; in a future version this will raise TypeError.  Select only valid columns before calling the reduction.\n",
      "  df = df.fillna(df.mean())\n"
     ]
    }
   ],
   "source": [
    "\n",
    "features_names = ['VAR','RMS','IEMG','MAV',\n",
    "                  'LOG','WL','ACC','DASDV','ZC','WAMP','MYOP','FR','MNP','TP','MNF','MDF','PKF','WENT']\n",
    "\n",
    "\n",
    "dataset = pd.read_csv('output_sampling1024_frame120_step60.csv')\n",
    "\n",
    "df = pd.DataFrame(dataset)\n",
    "df = df.fillna(df.mean())\n",
    "df = df.sample(frac=1)\n",
    "\n",
    "X = df[features_names]\n",
    "y = df['otot']\n",
    "\n",
    "# plt.figure(figsize=(12,10))\n",
    "# cor = X.corr()\n",
    "# sns.heatmap(cor, annot=True, cmap=plt.cm.Reds)\n",
    "# plt.show()\n",
    "# print(df.isnull().values.any())\n",
    "\n",
    "\n"
   ]
  },
  {
   "cell_type": "code",
   "execution_count": 7,
   "metadata": {},
   "outputs": [],
   "source": [
    "from sklearn.preprocessing import StandardScaler, MinMaxScaler\n",
    "\n",
    "\n",
    "le = preprocessing.LabelEncoder()\n",
    "y = le.fit_transform(y)\n",
    "\n",
    "X_train, X_test, y_train, y_test = train_test_split(X, y, test_size = 0.2)\n",
    "\n",
    "# scaler = MinMaxScaler()\n",
    "# scaler.fit(X_train)\n",
    "\n",
    "# X_train = scaler.transform(X_train)\n",
    "# X_test = scaler.transform(X_test)"
   ]
  },
  {
   "cell_type": "code",
   "execution_count": 8,
   "metadata": {
    "scrolled": false
   },
   "outputs": [
    {
     "name": "stdout",
     "output_type": "stream",
     "text": [
      "Fitting 5 folds for each of 25 candidates, totalling 125 fits\n",
      "[CV 1/5] END ........C=0.1, gamma=1, kernel=rbf;, score=0.334 total time= 1.2min\n",
      "[CV 2/5] END ........C=0.1, gamma=1, kernel=rbf;, score=0.334 total time= 1.2min\n",
      "[CV 3/5] END ........C=0.1, gamma=1, kernel=rbf;, score=0.334 total time= 1.1min\n",
      "[CV 4/5] END ........C=0.1, gamma=1, kernel=rbf;, score=0.334 total time= 1.0min\n",
      "[CV 5/5] END ........C=0.1, gamma=1, kernel=rbf;, score=0.334 total time= 1.0min\n",
      "[CV 1/5] END ......C=0.1, gamma=0.1, kernel=rbf;, score=0.388 total time= 1.4min\n",
      "[CV 2/5] END ......C=0.1, gamma=0.1, kernel=rbf;, score=0.394 total time= 1.5min\n",
      "[CV 3/5] END ......C=0.1, gamma=0.1, kernel=rbf;, score=0.398 total time= 1.6min\n",
      "[CV 4/5] END ......C=0.1, gamma=0.1, kernel=rbf;, score=0.394 total time= 1.2min\n",
      "[CV 5/5] END ......C=0.1, gamma=0.1, kernel=rbf;, score=0.395 total time= 1.2min\n",
      "[CV 1/5] END .....C=0.1, gamma=0.01, kernel=rbf;, score=0.693 total time=  40.0s\n",
      "[CV 2/5] END .....C=0.1, gamma=0.01, kernel=rbf;, score=0.698 total time=  51.1s\n",
      "[CV 3/5] END .....C=0.1, gamma=0.01, kernel=rbf;, score=0.692 total time=  50.3s\n",
      "[CV 4/5] END .....C=0.1, gamma=0.01, kernel=rbf;, score=0.699 total time=  46.6s\n",
      "[CV 5/5] END .....C=0.1, gamma=0.01, kernel=rbf;, score=0.699 total time=  44.9s\n",
      "[CV 1/5] END ....C=0.1, gamma=0.001, kernel=rbf;, score=0.713 total time=  31.4s\n",
      "[CV 2/5] END ....C=0.1, gamma=0.001, kernel=rbf;, score=0.710 total time=  30.8s\n",
      "[CV 3/5] END ....C=0.1, gamma=0.001, kernel=rbf;, score=0.715 total time=  30.8s\n",
      "[CV 4/5] END ....C=0.1, gamma=0.001, kernel=rbf;, score=0.718 total time=  30.6s\n",
      "[CV 5/5] END ....C=0.1, gamma=0.001, kernel=rbf;, score=0.717 total time=  30.5s\n",
      "[CV 1/5] END ...C=0.1, gamma=0.0001, kernel=rbf;, score=0.698 total time=  31.5s\n",
      "[CV 2/5] END ...C=0.1, gamma=0.0001, kernel=rbf;, score=0.693 total time=  31.3s\n",
      "[CV 3/5] END ...C=0.1, gamma=0.0001, kernel=rbf;, score=0.694 total time=  31.4s\n",
      "[CV 4/5] END ...C=0.1, gamma=0.0001, kernel=rbf;, score=0.702 total time=  31.2s\n",
      "[CV 5/5] END ...C=0.1, gamma=0.0001, kernel=rbf;, score=0.701 total time=  31.3s\n",
      "[CV 1/5] END ..........C=1, gamma=1, kernel=rbf;, score=0.432 total time= 2.2min\n",
      "[CV 2/5] END ..........C=1, gamma=1, kernel=rbf;, score=0.435 total time= 2.2min\n",
      "[CV 3/5] END ..........C=1, gamma=1, kernel=rbf;, score=0.438 total time= 2.2min\n",
      "[CV 4/5] END ..........C=1, gamma=1, kernel=rbf;, score=0.431 total time= 2.2min\n",
      "[CV 5/5] END ..........C=1, gamma=1, kernel=rbf;, score=0.436 total time= 2.2min\n",
      "[CV 1/5] END ........C=1, gamma=0.1, kernel=rbf;, score=0.580 total time= 2.6min\n",
      "[CV 2/5] END ........C=1, gamma=0.1, kernel=rbf;, score=0.587 total time= 2.6min\n",
      "[CV 3/5] END ........C=1, gamma=0.1, kernel=rbf;, score=0.587 total time= 2.6min\n",
      "[CV 4/5] END ........C=1, gamma=0.1, kernel=rbf;, score=0.584 total time= 2.9min\n",
      "[CV 5/5] END ........C=1, gamma=0.1, kernel=rbf;, score=0.591 total time= 2.7min\n",
      "[CV 1/5] END .......C=1, gamma=0.01, kernel=rbf;, score=0.738 total time= 1.2min\n",
      "[CV 2/5] END .......C=1, gamma=0.01, kernel=rbf;, score=0.738 total time= 1.1min\n",
      "[CV 3/5] END .......C=1, gamma=0.01, kernel=rbf;, score=0.742 total time= 1.1min\n",
      "[CV 4/5] END .......C=1, gamma=0.01, kernel=rbf;, score=0.743 total time= 1.1min\n",
      "[CV 5/5] END .......C=1, gamma=0.01, kernel=rbf;, score=0.738 total time= 1.1min\n",
      "[CV 1/5] END ......C=1, gamma=0.001, kernel=rbf;, score=0.743 total time=  27.4s\n",
      "[CV 2/5] END ......C=1, gamma=0.001, kernel=rbf;, score=0.743 total time=  27.4s\n",
      "[CV 3/5] END ......C=1, gamma=0.001, kernel=rbf;, score=0.746 total time=  27.3s\n",
      "[CV 4/5] END ......C=1, gamma=0.001, kernel=rbf;, score=0.741 total time=  27.4s\n",
      "[CV 5/5] END ......C=1, gamma=0.001, kernel=rbf;, score=0.745 total time=  27.4s\n",
      "[CV 1/5] END .....C=1, gamma=0.0001, kernel=rbf;, score=0.714 total time=  27.9s\n",
      "[CV 2/5] END .....C=1, gamma=0.0001, kernel=rbf;, score=0.709 total time=  27.8s\n",
      "[CV 3/5] END .....C=1, gamma=0.0001, kernel=rbf;, score=0.713 total time=  28.1s\n",
      "[CV 4/5] END .....C=1, gamma=0.0001, kernel=rbf;, score=0.712 total time=  27.9s\n",
      "[CV 5/5] END .....C=1, gamma=0.0001, kernel=rbf;, score=0.714 total time=  27.9s\n",
      "[CV 1/5] END .........C=10, gamma=1, kernel=rbf;, score=0.438 total time= 2.7min\n",
      "[CV 2/5] END .........C=10, gamma=1, kernel=rbf;, score=0.439 total time= 2.5min\n",
      "[CV 3/5] END .........C=10, gamma=1, kernel=rbf;, score=0.447 total time= 2.5min\n",
      "[CV 4/5] END .........C=10, gamma=1, kernel=rbf;, score=0.440 total time= 2.5min\n",
      "[CV 5/5] END .........C=10, gamma=1, kernel=rbf;, score=0.444 total time= 2.5min\n",
      "[CV 1/5] END .......C=10, gamma=0.1, kernel=rbf;, score=0.574 total time= 3.2min\n",
      "[CV 2/5] END .......C=10, gamma=0.1, kernel=rbf;, score=0.577 total time= 3.2min\n",
      "[CV 3/5] END .......C=10, gamma=0.1, kernel=rbf;, score=0.586 total time= 3.2min\n",
      "[CV 4/5] END .......C=10, gamma=0.1, kernel=rbf;, score=0.576 total time= 3.1min\n",
      "[CV 5/5] END .......C=10, gamma=0.1, kernel=rbf;, score=0.588 total time= 3.6min\n",
      "[CV 1/5] END ......C=10, gamma=0.01, kernel=rbf;, score=0.711 total time= 1.9min\n",
      "[CV 2/5] END ......C=10, gamma=0.01, kernel=rbf;, score=0.708 total time= 1.8min\n",
      "[CV 3/5] END ......C=10, gamma=0.01, kernel=rbf;, score=0.718 total time= 2.1min\n",
      "[CV 4/5] END ......C=10, gamma=0.01, kernel=rbf;, score=0.712 total time= 2.0min\n",
      "[CV 5/5] END ......C=10, gamma=0.01, kernel=rbf;, score=0.715 total time= 1.9min\n",
      "[CV 1/5] END .....C=10, gamma=0.001, kernel=rbf;, score=0.756 total time=  45.2s\n",
      "[CV 2/5] END .....C=10, gamma=0.001, kernel=rbf;, score=0.762 total time=  42.3s\n",
      "[CV 3/5] END .....C=10, gamma=0.001, kernel=rbf;, score=0.761 total time=  41.4s\n",
      "[CV 4/5] END .....C=10, gamma=0.001, kernel=rbf;, score=0.759 total time=  39.9s\n",
      "[CV 5/5] END .....C=10, gamma=0.001, kernel=rbf;, score=0.761 total time=  42.4s\n",
      "[CV 1/5] END ....C=10, gamma=0.0001, kernel=rbf;, score=0.725 total time=  37.8s\n",
      "[CV 2/5] END ....C=10, gamma=0.0001, kernel=rbf;, score=0.724 total time=  38.0s\n",
      "[CV 3/5] END ....C=10, gamma=0.0001, kernel=rbf;, score=0.729 total time=  37.1s\n",
      "[CV 4/5] END ....C=10, gamma=0.0001, kernel=rbf;, score=0.726 total time=  34.8s\n",
      "[CV 5/5] END ....C=10, gamma=0.0001, kernel=rbf;, score=0.728 total time=  32.3s\n",
      "[CV 1/5] END ........C=100, gamma=1, kernel=rbf;, score=0.438 total time= 3.1min\n",
      "[CV 2/5] END ........C=100, gamma=1, kernel=rbf;, score=0.439 total time= 3.0min\n",
      "[CV 3/5] END ........C=100, gamma=1, kernel=rbf;, score=0.447 total time= 3.3min\n",
      "[CV 4/5] END ........C=100, gamma=1, kernel=rbf;, score=0.440 total time= 3.3min\n",
      "[CV 5/5] END ........C=100, gamma=1, kernel=rbf;, score=0.444 total time= 3.3min\n",
      "[CV 1/5] END ......C=100, gamma=0.1, kernel=rbf;, score=0.570 total time= 4.2min\n",
      "[CV 2/5] END ......C=100, gamma=0.1, kernel=rbf;, score=0.573 total time= 4.0min\n",
      "[CV 3/5] END ......C=100, gamma=0.1, kernel=rbf;, score=0.582 total time= 4.3min\n",
      "[CV 4/5] END ......C=100, gamma=0.1, kernel=rbf;, score=0.575 total time= 4.8min\n",
      "[CV 5/5] END ......C=100, gamma=0.1, kernel=rbf;, score=0.584 total time= 3.6min\n",
      "[CV 1/5] END .....C=100, gamma=0.01, kernel=rbf;, score=0.686 total time= 2.3min\n",
      "[CV 2/5] END .....C=100, gamma=0.01, kernel=rbf;, score=0.677 total time= 2.3min\n",
      "[CV 3/5] END .....C=100, gamma=0.01, kernel=rbf;, score=0.684 total time= 2.4min\n",
      "[CV 4/5] END .....C=100, gamma=0.01, kernel=rbf;, score=0.682 total time= 2.3min\n",
      "[CV 5/5] END .....C=100, gamma=0.01, kernel=rbf;, score=0.681 total time= 2.4min\n",
      "[CV 1/5] END ....C=100, gamma=0.001, kernel=rbf;, score=0.760 total time= 1.1min\n",
      "[CV 2/5] END ....C=100, gamma=0.001, kernel=rbf;, score=0.758 total time= 1.1min\n",
      "[CV 3/5] END ....C=100, gamma=0.001, kernel=rbf;, score=0.764 total time= 1.1min\n",
      "[CV 4/5] END ....C=100, gamma=0.001, kernel=rbf;, score=0.757 total time= 1.1min\n",
      "[CV 5/5] END ....C=100, gamma=0.001, kernel=rbf;, score=0.763 total time= 1.1min\n",
      "[CV 1/5] END ...C=100, gamma=0.0001, kernel=rbf;, score=0.745 total time=  34.4s\n",
      "[CV 2/5] END ...C=100, gamma=0.0001, kernel=rbf;, score=0.743 total time=  33.6s\n",
      "[CV 3/5] END ...C=100, gamma=0.0001, kernel=rbf;, score=0.749 total time=  34.2s\n",
      "[CV 4/5] END ...C=100, gamma=0.0001, kernel=rbf;, score=0.746 total time=  33.8s\n",
      "[CV 5/5] END ...C=100, gamma=0.0001, kernel=rbf;, score=0.749 total time=  34.6s\n",
      "[CV 1/5] END .......C=1000, gamma=1, kernel=rbf;, score=0.438 total time= 2.7min\n"
     ]
    },
    {
     "name": "stdout",
     "output_type": "stream",
     "text": [
      "[CV 2/5] END .......C=1000, gamma=1, kernel=rbf;, score=0.439 total time= 2.6min\n",
      "[CV 3/5] END .......C=1000, gamma=1, kernel=rbf;, score=0.447 total time= 2.6min\n",
      "[CV 4/5] END .......C=1000, gamma=1, kernel=rbf;, score=0.440 total time= 2.6min\n",
      "[CV 5/5] END .......C=1000, gamma=1, kernel=rbf;, score=0.444 total time= 2.6min\n",
      "[CV 1/5] END .....C=1000, gamma=0.1, kernel=rbf;, score=0.570 total time= 3.3min\n",
      "[CV 2/5] END .....C=1000, gamma=0.1, kernel=rbf;, score=0.573 total time= 3.3min\n",
      "[CV 3/5] END .....C=1000, gamma=0.1, kernel=rbf;, score=0.582 total time= 3.3min\n",
      "[CV 4/5] END .....C=1000, gamma=0.1, kernel=rbf;, score=0.574 total time= 3.3min\n",
      "[CV 5/5] END .....C=1000, gamma=0.1, kernel=rbf;, score=0.585 total time= 3.3min\n",
      "[CV 1/5] END ....C=1000, gamma=0.01, kernel=rbf;, score=0.675 total time= 3.5min\n",
      "[CV 2/5] END ....C=1000, gamma=0.01, kernel=rbf;, score=0.670 total time= 3.4min\n",
      "[CV 3/5] END ....C=1000, gamma=0.01, kernel=rbf;, score=0.677 total time= 3.4min\n",
      "[CV 4/5] END ....C=1000, gamma=0.01, kernel=rbf;, score=0.668 total time= 3.6min\n",
      "[CV 5/5] END ....C=1000, gamma=0.01, kernel=rbf;, score=0.675 total time= 3.6min\n",
      "[CV 1/5] END ...C=1000, gamma=0.001, kernel=rbf;, score=0.751 total time= 5.5min\n",
      "[CV 2/5] END ...C=1000, gamma=0.001, kernel=rbf;, score=0.752 total time= 5.3min\n",
      "[CV 3/5] END ...C=1000, gamma=0.001, kernel=rbf;, score=0.759 total time= 5.6min\n",
      "[CV 4/5] END ...C=1000, gamma=0.001, kernel=rbf;, score=0.751 total time= 5.6min\n",
      "[CV 5/5] END ...C=1000, gamma=0.001, kernel=rbf;, score=0.751 total time= 6.7min\n",
      "[CV 1/5] END ..C=1000, gamma=0.0001, kernel=rbf;, score=0.760 total time= 1.8min\n",
      "[CV 2/5] END ..C=1000, gamma=0.0001, kernel=rbf;, score=0.761 total time= 1.8min\n",
      "[CV 3/5] END ..C=1000, gamma=0.0001, kernel=rbf;, score=0.763 total time= 1.7min\n",
      "[CV 4/5] END ..C=1000, gamma=0.0001, kernel=rbf;, score=0.758 total time= 1.7min\n",
      "[CV 5/5] END ..C=1000, gamma=0.0001, kernel=rbf;, score=0.763 total time= 1.5min\n"
     ]
    },
    {
     "data": {
      "text/plain": [
       "GridSearchCV(estimator=SVC(),\n",
       "             param_grid={'C': [0.1, 1, 10, 100, 1000],\n",
       "                         'gamma': [1, 0.1, 0.01, 0.001, 0.0001],\n",
       "                         'kernel': ['rbf']},\n",
       "             verbose=3)"
      ]
     },
     "execution_count": 8,
     "metadata": {},
     "output_type": "execute_result"
    }
   ],
   "source": [
    "from sklearn.model_selection import GridSearchCV\n",
    "from sklearn.svm import SVC\n",
    "# {'C': 1000, 'gamma': 1, 'kernel': 'rbf'} best param\n",
    "# SVC(C=1000, gamma=1) best estimator\n",
    "\n",
    "# defining parameter range\n",
    "param_grid = {'C': [0.1, 1, 10, 100, 1000],\n",
    "              'gamma': [1, 0.1, 0.01, 0.001, 0.0001],\n",
    "              'kernel': ['rbf']}\n",
    " \n",
    "grid = GridSearchCV(SVC(), param_grid, refit = True, verbose = 3)\n",
    " \n",
    "# fitting the model for grid search\n",
    "grid.fit(X_train, y_train)"
   ]
  },
  {
   "cell_type": "code",
   "execution_count": 9,
   "metadata": {},
   "outputs": [
    {
     "name": "stdout",
     "output_type": "stream",
     "text": [
      "{'C': 100, 'gamma': 0.001, 'kernel': 'rbf'}\n",
      "SVC(C=100, gamma=0.001)\n"
     ]
    }
   ],
   "source": [
    "# print best parameter after tuning\n",
    "print(grid.best_params_)\n",
    " \n",
    "# print how our model looks after hyper-parameter tuning\n",
    "print(grid.best_estimator_)"
   ]
  },
  {
   "cell_type": "code",
   "execution_count": 10,
   "metadata": {},
   "outputs": [],
   "source": [
    "# from sklearn.model_selection import RepeatedStratifiedKFold\n",
    "# from skopt import BayesSearchCV\n",
    "# from sklearn.svm import SVC\n",
    "# # define search space\n",
    "# params = dict()\n",
    "# params['C'] = (1e-6, 100.0, 'log-uniform')\n",
    "# params['gamma'] = (1e-6, 100.0, 'log-uniform')\n",
    "# params['degree'] = (1,5)\n",
    "# params['kernel'] = ['linear', 'poly', 'rbf', 'sigmoid']\n",
    "# # define evaluation\n",
    "# cv = RepeatedStratifiedKFold(n_splits=10, n_repeats=3, random_state=1)\n",
    "# # define the search\n",
    "# search = BayesSearchCV(estimator=SVC(), search_spaces=params, n_jobs=-1, cv=cv)\n",
    "# # perform the search\n",
    "# search.fit(X, y)\n",
    "# # report the best result\n",
    "# print(search.best_score_)\n",
    "# print(search.best_params_)\n",
    "\n"
   ]
  }
 ],
 "metadata": {
  "kernelspec": {
   "display_name": "tf_gpu",
   "language": "python",
   "name": "tf_gpu"
  },
  "language_info": {
   "codemirror_mode": {
    "name": "ipython",
    "version": 3
   },
   "file_extension": ".py",
   "mimetype": "text/x-python",
   "name": "python",
   "nbconvert_exporter": "python",
   "pygments_lexer": "ipython3",
   "version": "3.9.9"
  }
 },
 "nbformat": 4,
 "nbformat_minor": 4
}

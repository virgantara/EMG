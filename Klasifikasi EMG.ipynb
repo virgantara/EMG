{
 "cells": [
  {
   "cell_type": "code",
   "execution_count": 1,
   "metadata": {},
   "outputs": [],
   "source": [
    "import pandas as pd\n",
    "import numpy as np\n",
    "import matplotlib.pyplot as plt\n",
    "from sklearn.model_selection import train_test_split\n",
    "\n",
    "from sklearn import preprocessing\n",
    "from sklearn.neural_network import MLPClassifier\n",
    "import seaborn as sns"
   ]
  },
  {
   "cell_type": "code",
   "execution_count": 2,
   "metadata": {},
   "outputs": [
    {
     "name": "stderr",
     "output_type": "stream",
     "text": [
      "/tmp/ipykernel_36477/1938230582.py:7: FutureWarning: Dropping of nuisance columns in DataFrame reductions (with 'numeric_only=None') is deprecated; in a future version this will raise TypeError.  Select only valid columns before calling the reduction.\n",
      "  df = df.fillna(df.mean())\n"
     ]
    },
    {
     "data": {
      "image/png": "[encoded data removed]",
      "text/plain": [
       "<Figure size 640x480 with 1 Axes>"
      ]
     },
     "metadata": {},
     "output_type": "display_data"
    }
   ],
   "source": [
    "\n",
    "features_names = ['VAR','RMS','IEMG','MAV',\n",
    "                  'LOG','WL','ACC','DASDV','ZC','WAMP','MYOP','FR','MNP','TP','MNF','MDF','PKF','WENT']\n",
    "\n",
    "dataset = pd.read_csv('cls_sampling_1024_frame120_step60.csv')\n",
    "\n",
    "df = pd.DataFrame(dataset)\n",
    "df = df.fillna(df.mean())\n",
    "df = df.sample(frac=1)\n",
    "\n",
    "X = df[features_names]\n",
    "y = df['target']\n",
    "\n",
    "# plt.figure(figsize=(12,10))\n",
    "# cor = X.corr()\n",
    "# sns.heatmap(cor, annot=True, cmap=plt.cm.Reds)\n",
    "# plt.show()\n",
    "# print(df.isnull().values.any())\n",
    "\n",
    "\n",
    "unique, counts = np.unique(y, return_counts=True)\n",
    "pd.DataFrame(unique)[0].hist()\n",
    "plt.bar(unique, counts, 1)\n",
    "plt.title('Class Frequency')\n",
    "plt.xlabel('Class')\n",
    "plt.ylabel('Frequency')\n",
    "plt.show()\n"
   ]
  },
  {
   "cell_type": "code",
   "execution_count": 3,
   "metadata": {},
   "outputs": [],
   "source": [
    "from sklearn.preprocessing import StandardScaler, MinMaxScaler\n",
    "\n",
    "\n",
    "le = preprocessing.LabelEncoder()\n",
    "y = le.fit_transform(y)\n",
    "\n",
    "X_train, X_test, y_train, y_test = train_test_split(X, y, test_size = 0.3)\n",
    "\n",
    "scaler = StandardScaler()\n",
    "scaler.fit(X_train)\n",
    "\n",
    "X_train = scaler.transform(X_train)\n",
    "X_test = scaler.transform(X_test)"
   ]
  },
  {
   "cell_type": "code",
   "execution_count": 4,
   "metadata": {},
   "outputs": [
    {
     "name": "stdout",
     "output_type": "stream",
     "text": [
      "              precision    recall  f1-score   support\n",
      "\n",
      "           0       0.20      0.50      0.29         6\n",
      "           1       0.33      0.22      0.27         9\n",
      "           2       0.00      0.00      0.00        11\n",
      "           3       0.53      0.62      0.57        16\n",
      "\n",
      "    accuracy                           0.36        42\n",
      "   macro avg       0.26      0.34      0.28        42\n",
      "weighted avg       0.30      0.36      0.32        42\n",
      "\n"
     ]
    }
   ],
   "source": [
    "from sklearn.metrics import classification_report, confusion_matrix\n",
    "from sklearn.naive_bayes import MultinomialNB\n",
    "from sklearn import svm\n",
    "\n",
    "# clf = MLPClassifier(hidden_layer_sizes=(10,10,10), max_iter=100, random_state=1)\n",
    "# clf = MultinomialNB()\n",
    "clf = svm.SVC(\n",
    "    kernel='rbf',\n",
    "    C=100,\n",
    "    gamma=0.001\n",
    ")\n",
    "clf.fit(X_train, y_train)\n",
    "\n",
    "predictions = clf.predict(X_test)\n",
    "\n",
    "\n",
    "# print(confusion_matrix(y_test,predictions))\n",
    "print(classification_report(y_test,predictions))"
   ]
  },
  {
   "cell_type": "code",
   "execution_count": 5,
   "metadata": {},
   "outputs": [
    {
     "name": "stdout",
     "output_type": "stream",
     "text": [
      "[[ 3  0  0  3]\n",
      " [ 3  2  2  2]\n",
      " [ 4  3  0  4]\n",
      " [ 5  1  0 10]]\n"
     ]
    }
   ],
   "source": [
    "print(confusion_matrix(y_test,predictions))"
   ]
  }
 ],
 "metadata": {
  "kernelspec": {
   "display_name": "Python 3 (ipykernel)",
   "language": "python",
   "name": "python3"
  },
  "language_info": {
   "codemirror_mode": {
    "name": "ipython",
    "version": 3
   },
   "file_extension": ".py",
   "mimetype": "text/x-python",
   "name": "python",
   "nbconvert_exporter": "python",
   "pygments_lexer": "ipython3",
   "version": "3.9.0"
  }
 },
 "nbformat": 4,
 "nbformat_minor": 4
}
